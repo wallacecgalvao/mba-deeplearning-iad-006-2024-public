{
 "cells": [
  {
   "cell_type": "code",
   "execution_count": 2,
   "metadata": {},
   "outputs": [
    {
     "name": "stdout",
     "output_type": "stream",
     "text": [
      "Resultado da Inferência: {'prediction': 0}\n"
     ]
    }
   ],
   "source": [
    "import requests\n",
    "import json\n",
    "\n",
    "# URL do servidor onde o modelo está deployado\n",
    "server_url = \"http://localhost:8000/predict\"\n",
    "\n",
    "def inferencia(model_input):\n",
    "    headers = {'Content-Type': 'application/json'}\n",
    "    payload = json.dumps({'data': model_input})\n",
    "    \n",
    "    response = requests.post(server_url, headers=headers, data=payload)\n",
    "    \n",
    "    if response.status_code == 200:\n",
    "        return response.json()\n",
    "    else:\n",
    "        return {\"error\": \"Failed to connect to the server.\"}\n",
    "\n",
    "# Dados de exemplo para inferência\n",
    "dados_exemplo = [5.1, 3.5, 1.4, 0.2]\n",
    "\n",
    "# Chamar a função de inferência e obter o resultado\n",
    "resultado = inferencia(dados_exemplo)\n",
    "\n",
    "# Exibir o resultado\n",
    "print(f\"Resultado da Inferência: {resultado}\")"
   ]
  },
  {
   "cell_type": "code",
   "execution_count": 3,
   "metadata": {},
   "outputs": [
    {
     "name": "stdout",
     "output_type": "stream",
     "text": [
      "Resultado da Inferência 1: {'prediction': 0}\n",
      "Resultado da Inferência 2: {'prediction': 1}\n",
      "Resultado da Inferência 3: {'prediction': 2}\n",
      "Resultado da Inferência 4: {'prediction': 0}\n"
     ]
    }
   ],
   "source": [
    "# Suponha que você tenha uma lista de listas chamada `dados_batch`\n",
    "dados_batch = [\n",
    "    [5.1, 3.5, 1.4, 0.2],\n",
    "    [6.7, 3.1, 4.4, 1.4],\n",
    "    [5.9, 3.0, 5.1, 1.8],\n",
    "    [4.6, 3.4, 1.4, 0.3]\n",
    "]\n",
    "\n",
    "# Fazer inferência em batch\n",
    "resultados_batch = [inferencia(dados) for dados in dados_batch]\n",
    "\n",
    "# Exibir os resultados\n",
    "for i, resultado in enumerate(resultados_batch):\n",
    "    print(f\"Resultado da Inferência {i + 1}: {resultado}\")\n"
   ]
  }
 ],
 "metadata": {
  "kernelspec": {
   "display_name": "Python 3",
   "language": "python",
   "name": "python3"
  },
  "language_info": {
   "codemirror_mode": {
    "name": "ipython",
    "version": 3
   },
   "file_extension": ".py",
   "mimetype": "text/x-python",
   "name": "python",
   "nbconvert_exporter": "python",
   "pygments_lexer": "ipython3",
   "version": "3.10.13"
  }
 },
 "nbformat": 4,
 "nbformat_minor": 2
}
