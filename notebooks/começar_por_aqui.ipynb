{
 "cells": [
  {
   "cell_type": "markdown",
   "metadata": {},
   "source": [
    "Aqui está um código simples com sklearn para testar a execução de Python no Codespace com uma Decision Tree:"
   ]
  },
  {
   "cell_type": "code",
   "execution_count": 1,
   "metadata": {},
   "outputs": [
    {
     "name": "stdout",
     "output_type": "stream",
     "text": [
      "Precisão: 1.0\n"
     ]
    }
   ],
   "source": [
    "import numpy as np\n",
    "from sklearn.tree import DecisionTreeClassifier\n",
    "from sklearn.datasets import load_iris\n",
    "from sklearn.model_selection import train_test_split\n",
    "\n",
    "# Carregar o dataset Iris\n",
    "iris = load_iris()\n",
    "X = iris.data\n",
    "y = iris.target\n",
    "\n",
    "# Dividir o dataset em treinamento e teste\n",
    "X_train, X_test, y_train, y_test = train_test_split(X, y, test_size=0.2, random_state=42)\n",
    "\n",
    "# Criar uma Decision Tree\n",
    "clf = DecisionTreeClassifier(random_state=42)\n",
    "\n",
    "# Treinar a Decision Tree\n",
    "clf.fit(X_train, y_train)\n",
    "\n",
    "# Prever as classes para o conjunto de teste\n",
    "y_pred = clf.predict(X_test)\n",
    "\n",
    "# Imprimir a precisão da Decision Tree\n",
    "print(\"Precisão:\", clf.score(X_test, y_test))"
   ]
  },
  {
   "cell_type": "code",
   "execution_count": 2,
   "metadata": {},
   "outputs": [
    {
     "name": "stdout",
     "output_type": "stream",
     "text": [
      "Precisão: 0.8582857142857143\n"
     ]
    }
   ],
   "source": [
    "# EXERCÍCIO 1\n",
    "\n",
    "import numpy as np\n",
    "from sklearn.tree import DecisionTreeClassifier\n",
    "from sklearn.datasets import fetch_openml\n",
    "from sklearn.model_selection import train_test_split\n",
    "from sklearn.metrics import accuracy_score\n",
    "\n",
    "# Carregar o conjunto de dados MNIST\n",
    "mnist = fetch_openml('mnist_784', version=1)\n",
    "X = mnist.data\n",
    "y = mnist.target.astype(np.int64)\n",
    "\n",
    "# Dividir o dataset em treinamento e teste\n",
    "X_train, X_test, y_train, y_test = train_test_split(X, y, test_size=0.2, random_state=42)\n",
    "\n",
    "# Criar uma Decision Tree com parâmetros ajustados\n",
    "clf = DecisionTreeClassifier(max_depth=10, random_state=42)\n",
    "\n",
    "# Treinar a Decision Tree\n",
    "clf.fit(X_train, y_train)\n",
    "\n",
    "# Prever as classes para o conjunto de teste\n",
    "y_pred = clf.predict(X_test)\n",
    "\n",
    "# Imprimir a precisão da Decision Tree\n",
    "print(\"Precisão:\", accuracy_score(y_test, y_pred))"
   ]
  },
  {
   "cell_type": "code",
   "execution_count": 3,
   "metadata": {},
   "outputs": [
    {
     "name": "stdout",
     "output_type": "stream",
     "text": [
      "Fitting 3 folds for each of 27 candidates, totalling 81 fits\n",
      "[CV] END max_depth=10, min_samples_leaf=1, min_samples_split=2; total time=   7.2s\n",
      "[CV] END max_depth=10, min_samples_leaf=1, min_samples_split=2; total time=   7.4s\n",
      "[CV] END max_depth=10, min_samples_leaf=1, min_samples_split=2; total time=   7.0s\n",
      "[CV] END max_depth=10, min_samples_leaf=1, min_samples_split=10; total time=   6.8s\n",
      "[CV] END max_depth=10, min_samples_leaf=1, min_samples_split=10; total time=   7.0s\n",
      "[CV] END max_depth=10, min_samples_leaf=1, min_samples_split=10; total time=   7.1s\n",
      "[CV] END max_depth=10, min_samples_leaf=1, min_samples_split=20; total time=   7.1s\n",
      "[CV] END max_depth=10, min_samples_leaf=1, min_samples_split=20; total time=   7.0s\n",
      "[CV] END max_depth=10, min_samples_leaf=1, min_samples_split=20; total time=   6.7s\n",
      "[CV] END max_depth=10, min_samples_leaf=5, min_samples_split=2; total time=   6.9s\n",
      "[CV] END max_depth=10, min_samples_leaf=5, min_samples_split=2; total time=   6.9s\n",
      "[CV] END max_depth=10, min_samples_leaf=5, min_samples_split=2; total time=   6.9s\n",
      "[CV] END max_depth=10, min_samples_leaf=5, min_samples_split=10; total time=   6.9s\n",
      "[CV] END max_depth=10, min_samples_leaf=5, min_samples_split=10; total time=   6.9s\n",
      "[CV] END max_depth=10, min_samples_leaf=5, min_samples_split=10; total time=   6.8s\n",
      "[CV] END max_depth=10, min_samples_leaf=5, min_samples_split=20; total time=   6.8s\n",
      "[CV] END max_depth=10, min_samples_leaf=5, min_samples_split=20; total time=   6.8s\n",
      "[CV] END max_depth=10, min_samples_leaf=5, min_samples_split=20; total time=   6.9s\n",
      "[CV] END max_depth=10, min_samples_leaf=10, min_samples_split=2; total time=   6.7s\n",
      "[CV] END max_depth=10, min_samples_leaf=10, min_samples_split=2; total time=   6.9s\n",
      "[CV] END max_depth=10, min_samples_leaf=10, min_samples_split=2; total time=   6.7s\n",
      "[CV] END max_depth=10, min_samples_leaf=10, min_samples_split=10; total time=   6.5s\n",
      "[CV] END max_depth=10, min_samples_leaf=10, min_samples_split=10; total time=   6.8s\n",
      "[CV] END max_depth=10, min_samples_leaf=10, min_samples_split=10; total time=   6.7s\n",
      "[CV] END max_depth=10, min_samples_leaf=10, min_samples_split=20; total time=   6.7s\n",
      "[CV] END max_depth=10, min_samples_leaf=10, min_samples_split=20; total time=   6.8s\n",
      "[CV] END max_depth=10, min_samples_leaf=10, min_samples_split=20; total time=   6.5s\n",
      "[CV] END max_depth=20, min_samples_leaf=1, min_samples_split=2; total time=  11.0s\n",
      "[CV] END max_depth=20, min_samples_leaf=1, min_samples_split=2; total time=  10.9s\n",
      "[CV] END max_depth=20, min_samples_leaf=1, min_samples_split=2; total time=  11.2s\n",
      "[CV] END max_depth=20, min_samples_leaf=1, min_samples_split=10; total time=  10.9s\n",
      "[CV] END max_depth=20, min_samples_leaf=1, min_samples_split=10; total time=  10.8s\n",
      "[CV] END max_depth=20, min_samples_leaf=1, min_samples_split=10; total time=  10.8s\n",
      "[CV] END max_depth=20, min_samples_leaf=1, min_samples_split=20; total time=  10.7s\n",
      "[CV] END max_depth=20, min_samples_leaf=1, min_samples_split=20; total time=  10.7s\n",
      "[CV] END max_depth=20, min_samples_leaf=1, min_samples_split=20; total time=  10.7s\n",
      "[CV] END max_depth=20, min_samples_leaf=5, min_samples_split=2; total time=  10.0s\n",
      "[CV] END max_depth=20, min_samples_leaf=5, min_samples_split=2; total time=  10.0s\n",
      "[CV] END max_depth=20, min_samples_leaf=5, min_samples_split=2; total time=  10.2s\n",
      "[CV] END max_depth=20, min_samples_leaf=5, min_samples_split=10; total time=  10.3s\n",
      "[CV] END max_depth=20, min_samples_leaf=5, min_samples_split=10; total time=  10.1s\n",
      "[CV] END max_depth=20, min_samples_leaf=5, min_samples_split=10; total time=  10.3s\n",
      "[CV] END max_depth=20, min_samples_leaf=5, min_samples_split=20; total time=  10.2s\n",
      "[CV] END max_depth=20, min_samples_leaf=5, min_samples_split=20; total time=  10.2s\n",
      "[CV] END max_depth=20, min_samples_leaf=5, min_samples_split=20; total time=  10.1s\n",
      "[CV] END max_depth=20, min_samples_leaf=10, min_samples_split=2; total time=   9.8s\n",
      "[CV] END max_depth=20, min_samples_leaf=10, min_samples_split=2; total time=   9.6s\n",
      "[CV] END max_depth=20, min_samples_leaf=10, min_samples_split=2; total time=   9.5s\n",
      "[CV] END max_depth=20, min_samples_leaf=10, min_samples_split=10; total time=   9.9s\n",
      "[CV] END max_depth=20, min_samples_leaf=10, min_samples_split=10; total time=   9.6s\n",
      "[CV] END max_depth=20, min_samples_leaf=10, min_samples_split=10; total time=   9.8s\n",
      "[CV] END max_depth=20, min_samples_leaf=10, min_samples_split=20; total time=  10.0s\n",
      "[CV] END max_depth=20, min_samples_leaf=10, min_samples_split=20; total time=   9.7s\n",
      "[CV] END max_depth=20, min_samples_leaf=10, min_samples_split=20; total time=   9.8s\n",
      "[CV] END max_depth=30, min_samples_leaf=1, min_samples_split=2; total time=  16.7s\n",
      "[CV] END max_depth=30, min_samples_leaf=1, min_samples_split=2; total time=  18.7s\n",
      "[CV] END max_depth=30, min_samples_leaf=1, min_samples_split=2; total time=  16.4s\n",
      "[CV] END max_depth=30, min_samples_leaf=1, min_samples_split=10; total time=  15.0s\n",
      "[CV] END max_depth=30, min_samples_leaf=1, min_samples_split=10; total time=  12.7s\n",
      "[CV] END max_depth=30, min_samples_leaf=1, min_samples_split=10; total time=  13.2s\n",
      "[CV] END max_depth=30, min_samples_leaf=1, min_samples_split=20; total time=  12.9s\n",
      "[CV] END max_depth=30, min_samples_leaf=1, min_samples_split=20; total time=  12.9s\n",
      "[CV] END max_depth=30, min_samples_leaf=1, min_samples_split=20; total time=  13.2s\n",
      "[CV] END max_depth=30, min_samples_leaf=5, min_samples_split=2; total time=  11.5s\n",
      "[CV] END max_depth=30, min_samples_leaf=5, min_samples_split=2; total time=  10.9s\n",
      "[CV] END max_depth=30, min_samples_leaf=5, min_samples_split=2; total time=  11.0s\n",
      "[CV] END max_depth=30, min_samples_leaf=5, min_samples_split=10; total time=  11.3s\n",
      "[CV] END max_depth=30, min_samples_leaf=5, min_samples_split=10; total time=  11.0s\n",
      "[CV] END max_depth=30, min_samples_leaf=5, min_samples_split=10; total time=  10.9s\n",
      "[CV] END max_depth=30, min_samples_leaf=5, min_samples_split=20; total time=  11.4s\n",
      "[CV] END max_depth=30, min_samples_leaf=5, min_samples_split=20; total time=  11.0s\n",
      "[CV] END max_depth=30, min_samples_leaf=5, min_samples_split=20; total time=  11.1s\n",
      "[CV] END max_depth=30, min_samples_leaf=10, min_samples_split=2; total time=  10.1s\n",
      "[CV] END max_depth=30, min_samples_leaf=10, min_samples_split=2; total time=   9.9s\n",
      "[CV] END max_depth=30, min_samples_leaf=10, min_samples_split=2; total time=  10.1s\n",
      "[CV] END max_depth=30, min_samples_leaf=10, min_samples_split=10; total time=  10.2s\n",
      "[CV] END max_depth=30, min_samples_leaf=10, min_samples_split=10; total time=   9.7s\n",
      "[CV] END max_depth=30, min_samples_leaf=10, min_samples_split=10; total time=  10.2s\n",
      "[CV] END max_depth=30, min_samples_leaf=10, min_samples_split=20; total time=  10.1s\n",
      "[CV] END max_depth=30, min_samples_leaf=10, min_samples_split=20; total time=   9.8s\n",
      "[CV] END max_depth=30, min_samples_leaf=10, min_samples_split=20; total time=   8.8s\n",
      "Melhores parâmetros: {'max_depth': 20, 'min_samples_leaf': 5, 'min_samples_split': 2}\n",
      "Precisão: 0.8734285714285714\n"
     ]
    }
   ],
   "source": [
    "#EXERCÍCIO 1 AJUSTES ADICIONAIS\n",
    "\n",
    "from sklearn.model_selection import GridSearchCV\n",
    "\n",
    "# Definir os parâmetros para grid search\n",
    "param_grid = {\n",
    "    'max_depth': [10, 20, 30],\n",
    "    'min_samples_split': [2, 10, 20],\n",
    "    'min_samples_leaf': [1, 5, 10]\n",
    "}\n",
    "\n",
    "# Criar o modelo de árvore de decisão\n",
    "clf = DecisionTreeClassifier(random_state=42)\n",
    "\n",
    "# Configurar o GridSearchCV\n",
    "grid_search = GridSearchCV(estimator=clf, param_grid=param_grid, cv=3, n_jobs=-1, verbose=2)\n",
    "\n",
    "# Treinar o modelo com grid search\n",
    "grid_search.fit(X_train, y_train)\n",
    "\n",
    "# Melhor combinação de parâmetros\n",
    "print(\"Melhores parâmetros:\", grid_search.best_params_)\n",
    "\n",
    "# Prever as classes para o conjunto de teste com o melhor modelo\n",
    "y_pred = grid_search.best_estimator_.predict(X_test)\n",
    "\n",
    "# Imprimir a precisão do melhor modelo\n",
    "print(\"Precisão:\", accuracy_score(y_test, y_pred))\n"
   ]
  },
  {
   "cell_type": "markdown",
   "metadata": {},
   "source": []
  }
 ],
 "metadata": {
  "kernelspec": {
   "display_name": "Python 3",
   "language": "python",
   "name": "python3"
  },
  "language_info": {
   "codemirror_mode": {
    "name": "ipython",
    "version": 3
   },
   "file_extension": ".py",
   "mimetype": "text/x-python",
   "name": "python",
   "nbconvert_exporter": "python",
   "pygments_lexer": "ipython3",
   "version": "3.10.13"
  }
 },
 "nbformat": 4,
 "nbformat_minor": 2
}
