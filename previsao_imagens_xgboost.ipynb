{
 "cells": [
  {
   "cell_type": "code",
   "execution_count": 5,
   "metadata": {},
   "outputs": [
    {
     "name": "stdout",
     "output_type": "stream",
     "text": [
      "Previsão para /workspaces/mba-deeplearning-iad-006-2024-public/imagens/imagem_positiva.png: 0\n",
      "Previsão para /workspaces/mba-deeplearning-iad-006-2024-public/imagens/imagem_positiva_ruido.png: 0\n",
      "Previsão para /workspaces/mba-deeplearning-iad-006-2024-public/imagens/imagem_negativa.png: 5\n"
     ]
    }
   ],
   "source": [
    "import numpy as np\n",
    "from PIL import Image\n",
    "import xgboost as xgb\n",
    "\n",
    "# Função para carregar e processar a imagem\n",
    "def load_and_process_image(image_path):\n",
    "    image = Image.open(image_path).convert('L')  # Converte para escala de cinza\n",
    "    image_array = np.array(image).flatten()  # Flatten para um vetor 1D\n",
    "    image_array = image_array.astype('float32')  # Converte para float32\n",
    "    return image_array\n",
    "\n",
    "# Caminhos das imagens\n",
    "image_paths = [\n",
    "    \"/workspaces/mba-deeplearning-iad-006-2024-public/imagens/imagem_positiva.png\",\n",
    "    \"/workspaces/mba-deeplearning-iad-006-2024-public/imagens/imagem_positiva_ruido.png\",\n",
    "    \"/workspaces/mba-deeplearning-iad-006-2024-public/imagens/imagem_negativa.png\"\n",
    "]\n",
    "\n",
    "# Carregar o modelo salvo\n",
    "model = xgb.XGBClassifier()\n",
    "model.load_model(\"xgboost_mnist_8x8.json\")\n",
    "\n",
    "# Processar as imagens e realizar previsões\n",
    "for image_path in image_paths:\n",
    "    image_data = load_and_process_image(image_path)\n",
    "    image_data = image_data.reshape(1, -1)  # Redimensiona para o formato esperado pelo modelo\n",
    "    prediction = model.predict(image_data)\n",
    "    print(f\"Previsão para {image_path}: {prediction[0]}\")"
   ]
  }
 ],
 "metadata": {
  "kernelspec": {
   "display_name": "Python 3",
   "language": "python",
   "name": "python3"
  },
  "language_info": {
   "codemirror_mode": {
    "name": "ipython",
    "version": 3
   },
   "file_extension": ".py",
   "mimetype": "text/x-python",
   "name": "python",
   "nbconvert_exporter": "python",
   "pygments_lexer": "ipython3",
   "version": "3.10.13"
  }
 },
 "nbformat": 4,
 "nbformat_minor": 2
}
