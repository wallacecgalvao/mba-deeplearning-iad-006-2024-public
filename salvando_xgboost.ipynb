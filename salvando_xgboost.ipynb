{
 "cells": [
  {
   "cell_type": "code",
   "execution_count": 3,
   "metadata": {},
   "outputs": [
    {
     "name": "stdout",
     "output_type": "stream",
     "text": [
      "Precisão do modelo XGBoost: 0.973\n"
     ]
    }
   ],
   "source": [
    "import xgboost as xgb\n",
    "from sklearn.datasets import fetch_openml\n",
    "from sklearn.model_selection import train_test_split\n",
    "from sklearn.metrics import accuracy_score\n",
    "import numpy as np\n",
    "from PIL import Image\n",
    "\n",
    "# Carregar o conjunto de dados MNIST\n",
    "mnist = fetch_openml('mnist_784', version=1)\n",
    "\n",
    "# Converter os dados do DataFrame para um array numpy e redimensionar para 28x28\n",
    "X = mnist.data.to_numpy().reshape(-1, 28, 28).astype(np.uint8)  # Converter para uint8\n",
    "y = mnist.target.astype(int)\n",
    "\n",
    "# Redimensionar as imagens de 28x28 para 8x8\n",
    "X_resized = np.array([np.array(Image.fromarray(img).resize((8, 8))).flatten() for img in X])\n",
    "\n",
    "# Dividir o dataset em treinamento e teste\n",
    "X_train, X_test, y_train, y_test = train_test_split(X_resized, y, test_size=0.2, random_state=42)\n",
    "\n",
    "# Treinar o modelo XGBoost\n",
    "model = xgb.XGBClassifier(objective='multi:softmax', num_class=10)\n",
    "model.fit(X_train, y_train)\n",
    "\n",
    "# Fazer previsões para o conjunto de teste\n",
    "y_pred = model.predict(X_test)\n",
    "accuracy = accuracy_score(y_test, y_pred)\n",
    "print(f\"Precisão do modelo XGBoost: {accuracy}\")\n",
    "\n",
    "# Salvar o modelo em um arquivo JSON\n",
    "model.save_model('xgboost_mnist_8x8.json')\n",
    "\n",
    "\n"
   ]
  }
 ],
 "metadata": {
  "kernelspec": {
   "display_name": "Python 3",
   "language": "python",
   "name": "python3"
  },
  "language_info": {
   "codemirror_mode": {
    "name": "ipython",
    "version": 3
   },
   "file_extension": ".py",
   "mimetype": "text/x-python",
   "name": "python",
   "nbconvert_exporter": "python",
   "pygments_lexer": "ipython3",
   "version": "3.10.13"
  }
 },
 "nbformat": 4,
 "nbformat_minor": 2
}
